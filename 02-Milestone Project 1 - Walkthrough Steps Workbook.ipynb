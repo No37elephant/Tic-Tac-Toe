{
 "cells": [
  {
   "cell_type": "markdown",
   "metadata": {},
   "source": [
    "# Milestone Project 1: Walkthrough Steps Workbook\n",
    "\n",
    "Below is a set of steps for you to follow to try to create the Tic Tac Toe Milestone Project game!"
   ]
  },
  {
   "cell_type": "markdown",
   "metadata": {},
   "source": [
    "#### Some suggested tools before you get started:\n",
    "To take input from a user:\n",
    "\n",
    "    player1 = input(\"Please pick a marker 'X' or 'O'\")\n",
    "    \n",
    "Note that input() takes in a string. If you need an integer value, use\n",
    "\n",
    "    position = int(input('Please enter a number'))\n",
    "    \n",
    "<br>To clear the screen between moves:\n",
    "\n",
    "    from IPython.display import clear_output\n",
    "    clear_output()\n",
    "    \n",
    "Note that clear_output() will only work in jupyter. To clear the screen in other IDEs, consider:\n",
    "\n",
    "    print('\\n'*100)\n",
    "    \n",
    "This scrolls the previous board up out of view. Now on to the program!"
   ]
  },
  {
   "cell_type": "markdown",
   "metadata": {},
   "source": [
    "**Step 1: Write a function that can print out a board. Set up your board as a list, where each index 1-9 corresponds with a number on a number pad, so you get a 3 by 3 board representation.**"
   ]
  },
  {
   "cell_type": "code",
   "execution_count": null,
   "metadata": {},
   "outputs": [],
   "source": [
    "from IPython.display import clear_output\n",
    "\n",
    "def display_board(board):\n",
    "    d={}\n",
    "    for position, marker in enumerate(board[1:]):\n",
    "        d[position]=marker\n",
    "    print(d[6],d[7],d[8],sep='|')\n",
    "    print('-'*5)\n",
    "    print(d[3],d[4],d[5],sep='|')\n",
    "    print('-'*5)\n",
    "    print(d[0],d[1],d[2],sep='|')\n",
    "    pass"
   ]
  },
  {
   "cell_type": "markdown",
   "metadata": {},
   "source": [
    "**TEST Step 1:** run your function on a test version of the board list, and make adjustments as necessary"
   ]
  },
  {
   "cell_type": "code",
   "execution_count": null,
   "metadata": {},
   "outputs": [],
   "source": [
    "test_board = ['#',' ',' ',' ',' ',' ',' ',' ',' ',' ']\n",
    "display_board(test_board)"
   ]
  },
  {
   "cell_type": "markdown",
   "metadata": {},
   "source": [
    "**Step 2: Write a function that can take in a player input and assign their marker as 'X' or 'O'. Think about using *while* loops to continually ask until you get a correct answer.**"
   ]
  },
  {
   "cell_type": "code",
   "execution_count": null,
   "metadata": {},
   "outputs": [],
   "source": [
    "def player_input():\n",
    "    while True:\n",
    "        s = input('Please choose which marker you want, X or O: ')\n",
    "        if s == 'X':\n",
    "            return('You are X.')\n",
    "            break\n",
    "        elif s == 'O':\n",
    "            return('You are O.')\n",
    "            break\n",
    "        else: \n",
    "            print(\"you've make a wrong decision, try again\")\n",
    "            continue\n",
    "    pass"
   ]
  },
  {
   "cell_type": "markdown",
   "metadata": {},
   "source": [
    "**TEST Step 2:** run the function to make sure it returns the desired output"
   ]
  },
  {
   "cell_type": "code",
   "execution_count": null,
   "metadata": {},
   "outputs": [],
   "source": [
    "player_input()"
   ]
  },
  {
   "cell_type": "markdown",
   "metadata": {},
   "source": [
    "**Step 3: Write a function that takes in the board list object, a marker ('X' or 'O'), and a desired position (number 1-9) and assigns it to the board.**"
   ]
  },
  {
   "cell_type": "code",
   "execution_count": null,
   "metadata": {},
   "outputs": [],
   "source": [
    "def place_marker(board, marker, position):\n",
    "    d={}\n",
    "    position= input('position, from 1 to 9: ')\n",
    "    position = int(position)\n",
    "    marker = input('marker: ')\n",
    "    board[position]=marker\n",
    "    return (d)\n",
    "\n"
   ]
  },
  {
   "cell_type": "markdown",
   "metadata": {},
   "source": [
    "**TEST Step 3:** run the place marker function using test parameters and display the modified board"
   ]
  },
  {
   "cell_type": "code",
   "execution_count": null,
   "metadata": {},
   "outputs": [],
   "source": [
    "place_marker(test_board,'$',8)\n",
    "display_board(test_board)"
   ]
  },
  {
   "cell_type": "markdown",
   "metadata": {},
   "source": [
    "**Step 4: Write a function that takes in a board and a mark (X or O) and then checks to see if that mark has won. **"
   ]
  },
  {
   "cell_type": "code",
   "execution_count": null,
   "metadata": {},
   "outputs": [],
   "source": [
    "def win_check(board, mark):\n",
    "    d={}\n",
    "    for position, marker in enumerate(board[1:]):\n",
    "        d[position]=marker\n",
    "    if d[0]==d[1]==d[2]==mark:\n",
    "        return True\n",
    "    elif d[0]==d[4]==d[8]==mark:\n",
    "        return True\n",
    "    elif d[3]==d[4]==d[5]==mark:\n",
    "        return True\n",
    "    elif d[6]==d[7]==d[8]==mark:\n",
    "        return True\n",
    "    elif d[0]==d[3]==d[6]==mark:\n",
    "        return True\n",
    "    elif d[1]==d[4]==d[7]==mark:\n",
    "        return True\n",
    "    elif d[2]==d[5]==d[8]==mark:\n",
    "        return True\n",
    "    elif d[2]==d[4]==d[6]==mark:\n",
    "        return True\n",
    "    pass"
   ]
  },
  {
   "cell_type": "markdown",
   "metadata": {},
   "source": [
    "**TEST Step 4:** run the win_check function against our test_board - it should return True"
   ]
  },
  {
   "cell_type": "code",
   "execution_count": null,
   "metadata": {},
   "outputs": [],
   "source": [
    "win_check(test_board,'X')"
   ]
  },
  {
   "cell_type": "markdown",
   "metadata": {},
   "source": [
    "**Step 5: Write a function that uses the random module to randomly decide which player goes first. You may want to lookup random.randint() Return a string of which player went first.**"
   ]
  },
  {
   "cell_type": "code",
   "execution_count": null,
   "metadata": {},
   "outputs": [],
   "source": [
    "from random import randint\n",
    "\n",
    "def choose_first():\n",
    "    s = randint(1,2)\n",
    "    if s == 1:\n",
    "        return('X goes first.')\n",
    "    else:\n",
    "        return('O goes first.')\n",
    "    pass"
   ]
  },
  {
   "cell_type": "markdown",
   "metadata": {},
   "source": [
    "**Step 6: Write a function that returns a boolean indicating whether a space on the board is freely available.**"
   ]
  },
  {
   "cell_type": "code",
   "execution_count": null,
   "metadata": {},
   "outputs": [],
   "source": [
    "def space_check(board, position):\n",
    "    if board[position] == ' ':\n",
    "        print('available')\n",
    "        return True\n",
    "    else:\n",
    "        print('occupied')\n",
    "        return False"
   ]
  },
  {
   "cell_type": "markdown",
   "metadata": {},
   "source": [
    "**Step 7: Write a function that checks if the board is full and returns a boolean value. True if full, False otherwise.**"
   ]
  },
  {
   "cell_type": "code",
   "execution_count": null,
   "metadata": {},
   "outputs": [],
   "source": [
    "def full_board_check(board):\n",
    "    for i in range(0,9):\n",
    "        if board[i] == ' ':\n",
    "            return True\n",
    "        else:\n",
    "            return False"
   ]
  },
  {
   "cell_type": "markdown",
   "metadata": {},
   "source": [
    "**Step 8: Write a function that asks for a player's next position (as a number 1-9) and then uses the function from step 6 to check if it's a free position. If it is, then return the position for later use.**"
   ]
  },
  {
   "cell_type": "code",
   "execution_count": null,
   "metadata": {},
   "outputs": [],
   "source": [
    "def player_choice(board):\n",
    "    position = int(input('Please input a number from 1 to 9: '))\n",
    "    while space_check(board, position):\n",
    "        print(position)\n",
    "        return True\n",
    "    print(\"It's been occupied.\")"
   ]
  },
  {
   "cell_type": "markdown",
   "metadata": {},
   "source": [
    "**Step 9: Write a function that asks the player if they want to play again and returns a boolean True if they do want to play again.**"
   ]
  },
  {
   "cell_type": "code",
   "execution_count": null,
   "metadata": {},
   "outputs": [],
   "source": [
    "def replay():\n",
    "    response = input('Try again: ')\n",
    "    if response == 'Yes':\n",
    "        return True\n",
    "    else:\n",
    "        return False\n",
    "    pass"
   ]
  },
  {
   "cell_type": "markdown",
   "metadata": {
    "collapsed": true
   },
   "source": [
    "**Step 10: Here comes the hard part! Use while loops and the functions you've made to run the game!**"
   ]
  },
  {
   "cell_type": "code",
   "execution_count": null,
   "metadata": {},
   "outputs": [
    {
     "name": "stdout",
     "output_type": "stream",
     "text": [
      " | | \n",
      "-----\n",
      " | | \n",
      "-----\n",
      "O|X| \n",
      "Please input a number from 1 to 9: fuck\n",
      "Please enter \"Numbers\" correctly, Stupid\n"
     ]
    }
   ],
   "source": [
    "from IPython.display import clear_output\n",
    "\n",
    "def player_input():\n",
    "    while True:\n",
    "        global marker\n",
    "        marker = input('Please choose which marker you want, X or O: ')\n",
    "        marker = marker.upper()\n",
    "        if marker == 'X':\n",
    "            return(marker,'You are X.')\n",
    "        elif marker == 'O':\n",
    "            return(marker,'You are O.')\n",
    "        else: \n",
    "            print(\"you've make a wrong decision, try again\")\n",
    "            continue\n",
    "        pass\n",
    "    \n",
    "def place_marker(board, marker, position):\n",
    "    board[position-1]=marker\n",
    "    return(board)\n",
    "    \n",
    "\n",
    "\n",
    "def display_board(board):\n",
    "    print(board[6],board[7],board[8],sep='|')\n",
    "    print('-'*5)\n",
    "    print(board[3],board[4],board[5],sep='|')\n",
    "    print('-'*5)\n",
    "    print(board[0],board[1],board[2],sep='|')\n",
    "    pass\n",
    "\n",
    "def space_check(board, position):\n",
    "    if board[position-1] == ' ':\n",
    "        return True\n",
    "    else:\n",
    "        return False\n",
    "\n",
    "def full_board_check(board):\n",
    "    if ' ' in board.values():\n",
    "        return True\n",
    "    else:\n",
    "        return False\n",
    "\n",
    "def win_check(board):\n",
    "    for marker in ['X', 'O']:\n",
    "        if board[0]==board[1]==board[2]==marker:\n",
    "            print ('{} wins'.format(marker))\n",
    "            break\n",
    "        elif board[0]==board[4]==board[8]==marker:\n",
    "            print ('{} wins'.format(marker))\n",
    "            break\n",
    "        elif board[3]==board[4]==board[5]==marker:\n",
    "            print ('{} wins'.format(marker))\n",
    "            break\n",
    "        elif board[6]==board[7]==board[8]==marker:\n",
    "            print ('{} wins'.format(marker))\n",
    "            break\n",
    "        elif board[0]==board[3]==board[6]==marker:\n",
    "            print ('{} wins'.format(marker))\n",
    "            break\n",
    "        elif board[1]==board[4]==board[7]==marker:\n",
    "            print ('{} wins'.format(marker))\n",
    "            break\n",
    "        elif board[2]==board[5]==board[8]==marker:\n",
    "            print ('{} wins'.format(marker))\n",
    "            break\n",
    "        elif board[2]==board[4]==board[6]==marker:\n",
    "            print ('{} wins'.format(marker))\n",
    "            break\n",
    "        else:\n",
    "            print(\"It's a tie.\")\n",
    "            break\n",
    "    \n",
    "\n",
    "from random import randint\n",
    "\n",
    "def choose_first():\n",
    "    global marker\n",
    "    first = randint(1,2)\n",
    "    if first == 1:\n",
    "        print('X goes first.')\n",
    "        marker = 'X'\n",
    "        return marker\n",
    "    else:\n",
    "        print('O goes first.')\n",
    "        marker = 'O'\n",
    "        return marker\n",
    "    pass            \n",
    "\n",
    "def replay():\n",
    "    global try_again #記得global statement\n",
    "    response = input('Try again: ')\n",
    "    if response == 'Yes':\n",
    "        return True\n",
    "    else:\n",
    "        try_again = False\n",
    "        return try_again\n",
    "\n",
    "def player_choice(board):\n",
    "    b = True\n",
    "    while b:\n",
    "        global position\n",
    "        position = input('Please input a number from 1 to 9: ')\n",
    "        lst = []\n",
    "        for i in range(1,10):\n",
    "            lst.append(str(i))\n",
    "        if position in lst:\n",
    "            position = int(position)\n",
    "            if position <= 9:\n",
    "                while space_check(board, position):\n",
    "                    clear_output()\n",
    "                    return(position)\n",
    "            else:\n",
    "                print('Wrong Nums, Stupid!')\n",
    "                continue\n",
    "        elif position not in lst:\n",
    "            print('Please enter \"Numbers\" correctly, Stupid')\n",
    "            continue\n",
    "        print(\"It's been occupied. Try again!\")\n",
    "        continue\n",
    "   \n",
    "\n",
    "#####################################################################################################################\n",
    "\n",
    "print('Welcome to Tic Tac Toe!')\n",
    "\n",
    "try_again = True\n",
    "while try_again:\n",
    "    marker=''\n",
    "    position = ' '\n",
    "    board={}\n",
    "    for i in range(0,9):\n",
    "        board[i]=position\n",
    "    player_input()\n",
    "    choose_first()\n",
    "    while full_board_check(board):\n",
    "        player_choice(board)\n",
    "        place_marker(board, marker, position)\n",
    "        display_board(board)\n",
    "        if marker == 'X':\n",
    "            marker = 'O'\n",
    "        else:\n",
    "            marker = 'X'\n",
    "    win_check(board)\n",
    "    replay()"
   ]
  },
  {
   "cell_type": "markdown",
   "metadata": {
    "collapsed": true
   },
   "source": [
    "### Good Job!"
   ]
  },
  {
   "cell_type": "code",
   "execution_count": 17,
   "metadata": {},
   "outputs": [
    {
     "data": {
      "text/plain": [
       "'O'"
      ]
     },
     "execution_count": 17,
     "metadata": {},
     "output_type": "execute_result"
    }
   ],
   "source": [
    "board\n",
    "marker"
   ]
  },
  {
   "cell_type": "code",
   "execution_count": null,
   "metadata": {},
   "outputs": [],
   "source": [
    "board={}\n",
    "for i in range(0,9):\n",
    "    board[i]='1'\n",
    "space_check(board)"
   ]
  },
  {
   "cell_type": "code",
   "execution_count": null,
   "metadata": {},
   "outputs": [],
   "source": [
    " lst = list(range(1,10))"
   ]
  },
  {
   "cell_type": "code",
   "execution_count": null,
   "metadata": {},
   "outputs": [],
   "source": [
    "lst\n",
    "for i in range(0,9):\n",
    "    lst[i]=str(lst[i])\n",
    "print(lst)"
   ]
  },
  {
   "cell_type": "code",
   "execution_count": null,
   "metadata": {},
   "outputs": [],
   "source": [
    "lst"
   ]
  },
  {
   "cell_type": "code",
   "execution_count": null,
   "metadata": {},
   "outputs": [],
   "source": [
    "d={}\n",
    "for i in range(0,9):\n",
    "    d[i]='X'"
   ]
  },
  {
   "cell_type": "code",
   "execution_count": null,
   "metadata": {},
   "outputs": [],
   "source": [
    "d\n"
   ]
  },
  {
   "cell_type": "code",
   "execution_count": null,
   "metadata": {},
   "outputs": [],
   "source": [
    "def win_check(board, marker):\n",
    "    mark=mark.upper()\n",
    "    print(mark)\n",
    "    if mark == 'X':\n",
    "        if d[0]==d[1]==d[2]==mark:\n",
    "            return ('X wins')\n",
    "        elif d[0]==d[4]==d[8]==mark:\n",
    "            return ('X wins')\n",
    "        elif d[3]==d[4]==d[5]==mark:\n",
    "            return ('X wins')\n",
    "        elif d[6]==d[7]==d[8]==mark:\n",
    "            return ('X wins')\n",
    "        elif d[0]==d[3]==d[6]==mark:\n",
    "            return ('X wins')\n",
    "        elif d[1]==d[4]==d[7]==mark:\n",
    "            return ('X wins')\n",
    "        elif d[2]==d[5]==d[8]==mark:\n",
    "            return ('X wins')\n",
    "        elif d[2]==d[4]==d[6]==mark:\n",
    "            return ('X wins')\n",
    "        else:\n",
    "            return(\"it's a tie\")\n",
    "    elif mark == 'O':\n",
    "        if d[0]==d[1]==d[2]==mark:\n",
    "            return ('O wins')\n",
    "        elif d[0]==d[4]==d[8]==mark:\n",
    "            return ('O wins')\n",
    "        elif d[3]==d[4]==d[5]==mark:\n",
    "            return ('O wins')\n",
    "        elif d[6]==d[7]==d[8]==mark:\n",
    "            return ('O wins')\n",
    "        elif d[0]==d[3]==d[6]==mark:\n",
    "            return ('O wins')\n",
    "        elif d[1]==d[4]==d[7]==mark:\n",
    "            return ('O wins')\n",
    "        elif d[2]==d[5]==d[8]==mark:\n",
    "            return ('O wins')\n",
    "        elif d[2]==d[4]==d[6]==mark:\n",
    "            return ('O wins')\n",
    "        else:\n",
    "            return(\"it's a tie\")\n",
    "        "
   ]
  },
  {
   "cell_type": "code",
   "execution_count": 9,
   "metadata": {},
   "outputs": [
    {
     "data": {
      "text/plain": [
       "True"
      ]
     },
     "execution_count": 9,
     "metadata": {},
     "output_type": "execute_result"
    }
   ],
   "source": [
    "board\n",
    "full_board_check(board)"
   ]
  },
  {
   "cell_type": "code",
   "execution_count": 8,
   "metadata": {},
   "outputs": [],
   "source": [
    "def full_board_check(board):\n",
    "    if ' ' in board.values():\n",
    "        return True\n",
    "    else:\n",
    "        return False"
   ]
  },
  {
   "cell_type": "code",
   "execution_count": null,
   "metadata": {},
   "outputs": [],
   "source": [
    "def player_choice(board):\n",
    "    position = int(input('Please input a number from 1 to 9: '))\n",
    "    while space_check(board, position):\n",
    "        print(position)\n",
    "        return True\n",
    "    print(\"It's been occuppied.\")\n",
    "    pass"
   ]
  },
  {
   "cell_type": "code",
   "execution_count": null,
   "metadata": {},
   "outputs": [],
   "source": [
    "def space_check(board, position):\n",
    "    if board[position] == ' ':\n",
    "        return position\n",
    "    else:\n",
    "        return False"
   ]
  },
  {
   "cell_type": "code",
   "execution_count": null,
   "metadata": {},
   "outputs": [],
   "source": [
    "space_check(board,1)"
   ]
  },
  {
   "cell_type": "code",
   "execution_count": null,
   "metadata": {},
   "outputs": [],
   "source": [
    "board[1]='X'\n",
    "board"
   ]
  },
  {
   "cell_type": "code",
   "execution_count": null,
   "metadata": {},
   "outputs": [],
   "source": [
    "board={}\n",
    "for i in range(0,9):\n",
    "    board[i]=' '\n",
    "    "
   ]
  },
  {
   "cell_type": "code",
   "execution_count": null,
   "metadata": {},
   "outputs": [],
   "source": [
    "board"
   ]
  },
  {
   "cell_type": "code",
   "execution_count": null,
   "metadata": {},
   "outputs": [],
   "source": [
    "while full_board_check(board):\n",
    "    print('I am in')\n",
    "    break"
   ]
  },
  {
   "cell_type": "code",
   "execution_count": null,
   "metadata": {},
   "outputs": [],
   "source": [
    "board[1]='x'"
   ]
  },
  {
   "cell_type": "code",
   "execution_count": 24,
   "metadata": {},
   "outputs": [
    {
     "data": {
      "text/plain": [
       "{0: 'X', 1: ' ', 2: ' ', 3: ' ', 4: ' ', 5: ' ', 6: ' ', 7: ' ', 8: ' '}"
      ]
     },
     "execution_count": 24,
     "metadata": {},
     "output_type": "execute_result"
    }
   ],
   "source": [
    "board\n"
   ]
  },
  {
   "cell_type": "code",
   "execution_count": 26,
   "metadata": {},
   "outputs": [
    {
     "name": "stdout",
     "output_type": "stream",
     "text": [
      "Please input a number from 1 to 9: 0\n",
      "0\n",
      "It's been occupied.\n"
     ]
    }
   ],
   "source": [
    "player_choice(board)"
   ]
  },
  {
   "cell_type": "code",
   "execution_count": 59,
   "metadata": {},
   "outputs": [
    {
     "name": "stdout",
     "output_type": "stream",
     "text": [
      "X\n",
      "O\n"
     ]
    }
   ],
   "source": [
    "for marker in ['X', 'O']:\n",
    "    print(marker)"
   ]
  },
  {
   "cell_type": "code",
   "execution_count": 74,
   "metadata": {},
   "outputs": [
    {
     "name": "stdout",
     "output_type": "stream",
     "text": [
      "<class 'str'>\n",
      "<class 'str'>\n",
      "<class 'str'>\n",
      "<class 'str'>\n",
      "<class 'str'>\n",
      "<class 'str'>\n",
      "<class 'str'>\n",
      "<class 'str'>\n",
      "<class 'str'>\n"
     ]
    }
   ],
   "source": [
    "for i in list(range(1,10)):\n",
    "    i = str(i)\n",
    "    print (type(i))"
   ]
  },
  {
   "cell_type": "code",
   "execution_count": 81,
   "metadata": {},
   "outputs": [
    {
     "name": "stdout",
     "output_type": "stream",
     "text": [
      "['1', '2', '3', '4', '5', '6', '7', '8', '9']\n"
     ]
    }
   ],
   "source": [
    "lst = []\n",
    "for i in range(1,10):\n",
    "    lst.append(str(i))\n",
    "print(lst)"
   ]
  },
  {
   "cell_type": "code",
   "execution_count": null,
   "metadata": {},
   "outputs": [],
   "source": []
  }
 ],
 "metadata": {
  "kernelspec": {
   "display_name": "Python 3",
   "language": "python",
   "name": "python3"
  },
  "language_info": {
   "codemirror_mode": {
    "name": "ipython",
    "version": 3
   },
   "file_extension": ".py",
   "mimetype": "text/x-python",
   "name": "python",
   "nbconvert_exporter": "python",
   "pygments_lexer": "ipython3",
   "version": "3.7.3"
  }
 },
 "nbformat": 4,
 "nbformat_minor": 1
}
